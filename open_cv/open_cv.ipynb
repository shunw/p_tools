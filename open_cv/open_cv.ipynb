{
 "nbformat": 4,
 "nbformat_minor": 2,
 "metadata": {
  "language_info": {
   "name": "python",
   "codemirror_mode": {
    "name": "ipython",
    "version": 3
   },
   "version": "3.6.5-final"
  },
  "orig_nbformat": 2,
  "file_extension": ".py",
  "mimetype": "text/x-python",
  "name": "python",
  "npconvert_exporter": "python",
  "pygments_lexer": "ipython3",
  "version": 3,
  "kernelspec": {
   "name": "python36564bitff28b0bc308b43728a982148efad7fb6",
   "display_name": "Python 3.6.5 64-bit"
  }
 },
 "cells": [
  {
   "cell_type": "markdown",
   "metadata": {},
   "source": [
    "# [Centroid Track](https://www.pyimagesearch.com/2018/07/23/simple-object-tracking-with-opencv/)\n",
    "\n",
    "The primary assumption of the centroid tracking algorithm is that a given object will potentially move in between subsequent frames, but the distance between the centroids for frames F_t and F_{t + 1} will be smaller than all other distances between objects."
   ]
  },
  {
   "cell_type": "markdown",
   "metadata": {},
   "source": [
    "## Step1: Accept bounding box coordinates and compute centroids"
   ]
  },
  {
   "cell_type": "markdown",
   "metadata": {},
   "source": [
    "## Compute Euclidean distance between new bounding boxes and existing objects"
   ]
  },
  {
   "cell_type": "markdown",
   "metadata": {},
   "source": [
    "## Update (x, y) - coordinates of existing objects"
   ]
  },
  {
   "cell_type": "markdown",
   "metadata": {},
   "source": [
    "## Register new objects"
   ]
  },
  {
   "cell_type": "markdown",
   "metadata": {},
   "source": [
    "## Deregister old objects"
   ]
  },
  {
   "cell_type": "code",
   "execution_count": 11,
   "metadata": {},
   "outputs": [
    {
     "output_type": "execute_result",
     "data": {
      "text/plain": "array([[0.82421549, 0.32755369, 0.33198071],\n       [0.72642889, 0.72506609, 0.17058938]])"
     },
     "metadata": {},
     "execution_count": 11
    }
   ],
   "source": [
    "from scipy.spatial import distance as dist\n",
    "import numpy as np\n",
    "np.random.seed(42)\n",
    "objectCentroids = np.random.uniform(size = (2, 2))\n",
    "centroids = np.random.uniform(size = (3, 2))\n",
    "print (objectCentroids)\n",
    "print (centroids)\n",
    "D = dist.cdist(objectCentroids, centroids)\n",
    "D"
   ]
  },
  {
   "cell_type": "code",
   "execution_count": 7,
   "metadata": {},
   "outputs": [
    {
     "output_type": "execute_result",
     "data": {
      "text/plain": "array([[0.17058939]])"
     },
     "metadata": {},
     "execution_count": 7
    }
   ],
   "source": [
    "a = [[0.73199394, 0.59865848]]\n",
    "b = [[0.60111501, 0.70807258]]\n",
    "dist.cdist(a, b)"
   ]
  }
 ]
}