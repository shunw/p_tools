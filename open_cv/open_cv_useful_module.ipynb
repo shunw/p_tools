{
 "cells": [
  {
   "cell_type": "markdown",
   "metadata": {},
   "source": [
    "# Contour"
   ]
  },
  {
   "cell_type": "markdown",
   "metadata": {},
   "source": [
    "## Clear Contour with Similar Position\n",
    "\n",
    "For the detailed info, check the open_cv_6_17_measure.py"
   ]
  },
  {
   "cell_type": "code",
   "execution_count": null,
   "metadata": {},
   "outputs": [],
   "source": [
    "def similar_length(a, b, threshold): \n",
    "    '''\n",
    "    compare two length is similar length or not\n",
    "    return: True/ False\n",
    "    '''\n",
    "    if min(a, b)/(max(a, b) * 1.0) > threshold: \n",
    "        return True\n",
    "    else: \n",
    "        return False\n",
    "        \n",
    "def clear_cnt(cnts, size_diff_threshold = .97): \n",
    "    '''\n",
    "    input: cnt list <- sorted one, which is sorted by the contour area;\n",
    "        size_diff_threshold: bigger than this, will consider to exclude this image\n",
    "    purpose: to clear the contours, exclude the similar position, by checking the four corner position. \n",
    "    '''\n",
    "    remain_ind_list = []\n",
    "    for ind, c in enumerate(cnts):    \n",
    "        if ind == 0: \n",
    "            pre_pos = cv2.boundingRect(c)\n",
    "        else: \n",
    "            current_pos = cv2.boundingRect(c)\n",
    "            temp_true = 0\n",
    "            for a, b in zip(current_pos, pre_pos): \n",
    "                temp_true += similar_length(a, b, size_diff_threshold)\n",
    "            if temp_true <= 3: \n",
    "                remain_ind_list.append(ind)\n",
    "            pre_pos = current_pos\n",
    "        # print (x, y, w, h)\n",
    "    \n",
    "    return [cnts[i] for i in remain_ind_list]"
   ]
  },
  {
   "cell_type": "markdown",
   "metadata": {},
   "source": [
    "## Name the Contour Index on the Image\n",
    "\n",
    "For the detailed info, check the open_cv_6_17_measure.py"
   ]
  },
  {
   "cell_type": "code",
   "execution_count": null,
   "metadata": {},
   "outputs": [],
   "source": [
    "def name_contour(suitable_shown_image, resized_cnts): \n",
    "    '''\n",
    "    purpose is to named contour, and check which one is missing\n",
    "    input: resized_cnts is list; \n",
    "            image is np array shown\n",
    "    output: a process, no actual output\n",
    "    '''\n",
    "    for ind, value in enumerate(resized_cnts): \n",
    "        cv2.drawContours(suitable_shown_image, [value], -1, (0, 255, 0), 2)\n",
    "        cv2.putText(suitable_shown_image, '{}'.format(ind), (value[0][0][0], value[0][0][1]), cv2.FONT_HERSHEY_SIMPLEX, 1, (0, 0, 0), 3)"
   ]
  },
  {
   "cell_type": "markdown",
   "metadata": {},
   "source": [
    "## Show Contour in Resized Image\n",
    "\n",
    "For the detailed info, check the open_cv_6_17_measure.py"
   ]
  },
  {
   "cell_type": "code",
   "execution_count": null,
   "metadata": {},
   "outputs": [],
   "source": [
    "def cnts_2_ratio(cnts, ratio): \n",
    "    '''\n",
    "    cnts judge by the original images, this purpose is to make the cnts fit to the ratio which will shown\n",
    "    input: cnts, type may be the list; ratio, image height/ want to shown height\n",
    "    '''\n",
    "    cnts_resize = cnts.copy()\n",
    "    for cnts_ind, cnts_value in enumerate(cnts_resize): \n",
    "        # print (len(c))\n",
    "        for row_ind, row_value in enumerate(cnts_value):\n",
    "            cnts_value[row_ind] = [[int(j/ratio) for i in row_value for j in i]]\n",
    "    return cnts_resize"
   ]
  },
  {
   "cell_type": "markdown",
   "metadata": {},
   "source": [
    "## Get the Contour Center\n",
    "\n",
    "- if the image is solid -> use moment to get the center x and center y\n",
    "\n",
    "- if the image is not solid -> "
   ]
  },
  {
   "cell_type": "code",
   "execution_count": null,
   "metadata": {},
   "outputs": [],
   "source": [
    "for c in cnts:\n",
    "    # compute the center of the contour\n",
    "    M = cv2.moment(c)\n",
    "    cX = int(M['m10']/ M['m00'])\n",
    "    cY = int(M['m01']/ M['m00'])"
   ]
  },
  {
   "cell_type": "markdown",
   "metadata": {},
   "source": [
    "## Find Black Block Edge\n",
    "\n",
    "`thresh = cv2.threshold(gray, 100, 255, cv2.THRESH_BINARY)[1]`"
   ]
  },
  {
   "cell_type": "markdown",
   "metadata": {},
   "source": [
    "## Find Bounding Rectangle\n",
    "\n",
    "[link](https://stackoverflow.com/questions/46486078/opencv-how-to-find-rectangle-contour-of-a-rectangle-with-round-corner)"
   ]
  },
  {
   "cell_type": "code",
   "execution_count": null,
   "metadata": {},
   "outputs": [],
   "source": [
    "img = cv2.imread(\"image.png\", -1)\n",
    "\n",
    "gray = cv2.cvtColor(img, cv2.COLOR_BGR2GRAY)\n",
    "\n",
    "binary = cv2.bitwise_not(gray)\n",
    "\n",
    "(_,contours,_) = cv2.findContours(binary, cv2.RETR_EXTERNAL, cv2.CHAIN_APPROX_NONE)\n",
    "\n",
    "for contour in contours:\n",
    "    (x,y,w,h) = cv2.boundingRect(contour)\n",
    "    cv2.rectangle(img, (x,y), (x+w,y+h), (0,255,0), 2)"
   ]
  }
 ],
 "metadata": {
  "language_info": {
   "codemirror_mode": {
    "name": "ipython",
    "version": 3
   },
   "file_extension": ".py",
   "mimetype": "text/x-python",
   "name": "python",
   "nbconvert_exporter": "python",
   "pygments_lexer": "ipython3",
   "version": 3
  },
  "orig_nbformat": 2
 },
 "nbformat": 4,
 "nbformat_minor": 2
}