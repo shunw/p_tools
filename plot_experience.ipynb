{
 "nbformat": 4,
 "nbformat_minor": 2,
 "metadata": {
  "language_info": {
   "name": "python",
   "codemirror_mode": {
    "name": "ipython",
    "version": 3
   }
  },
  "orig_nbformat": 2,
  "file_extension": ".py",
  "mimetype": "text/x-python",
  "name": "python",
  "npconvert_exporter": "python",
  "pygments_lexer": "ipython3",
  "version": 3
 },
 "cells": [
  {
   "cell_type": "markdown",
   "metadata": {},
   "source": [
    "# Matplotlib Usage"
   ]
  },
  {
   "cell_type": "markdown",
   "metadata": {},
   "source": [
    "## Axis Related\n",
    "\n",
    "### Limit Axis Range\n",
    "\n",
    "```\n",
    "plt.scatter(x, y)\n",
    "\n",
    "plt.xlim(min_x_axis_value, max_x_axis_value)\n",
    "\n",
    "\n",
    "```"
   ]
  },
  {
   "cell_type": "markdown",
   "metadata": {},
   "source": [
    "## Scatter Plot "
   ]
  },
  {
   "cell_type": "markdown",
   "metadata": {},
   "source": [
    "### Plot Multiple Scatter Plot w/ Different Color (w/ pandas)\n",
    "\n",
    "- define how many levels in the plot\n",
    "\n",
    "- make the colorlist, number should be same as the levels\n",
    "\n",
    "```\n",
    "import matplotlib.cm as cm\n",
    "import matplotlib.colors as colors\n",
    "\n",
    "# level_d is how many levels shown in the plot\n",
    "colormap = cm.viridis\n",
    "colorlist = [colors.rgb2hex(colormap(i)) for i in np.linspace(0, .9, len(level_d))]\n",
    "```\n",
    "\n",
    "- plot the first one (use the for loop)\n",
    "\n",
    "    - be care of the None value\n",
    "\n",
    "    - define color & label\n",
    "```\n",
    "for ind in range(len(level_d)):\n",
    "    # temp_df is df and different by different level_d\n",
    "    # if level_d[ind] == np.nan: continue\n",
    "    \n",
    "    if isinstance(level_d[ind], float) and np.isnan(level_d[ind]):\n",
    "        continue\n",
    "\n",
    "    if ind == 0:\n",
    "        ax = temp_df.plot.scatter(x = x_value_col, y = y_value_col, c = colorlist[ind], label = level_d[ind], alpha = .5)\n",
    "```\n",
    "\n",
    "- plot the next ones\n",
    "\n",
    "```        \n",
    "    else: \n",
    "        temp_df.plot.scatter(x = x_value_col, y = y_value_col, c = colorlist[ind], label = level_d[ind], ax = ax, alpha = .5)\n",
    "```\n",
    "\n",
    "- configure the lables/ legend\n",
    "        \n",
    "```        \n",
    "ax.legend(bbox_to_anchor = (1, 1))\n",
    "\n",
    "fig_size = plt.rcParams['figure.figsize']\n",
    "fig_size[0] = 12\n",
    "fig_size[1] = 12\n",
    "plt.rcParams['figure.figsize'] = fig_size\n",
    "\n",
    "plt.subplots_adjust(right = 0.8)\n",
    "```"
   ]
  },
  {
   "cell_type": "markdown",
   "metadata": {},
   "source": [
    "### Plot Multiple Scatter Plot w/ Different Color (w/o pandas)\n",
    "\n",
    "- others are same as above (w/ pandas version)\n",
    "\n",
    "- the plot method is different as following\n",
    "\n",
    "```\n",
    "fig = plt.figure()\n",
    "ax1 = fig.add_subplot(111)\n",
    "for i, v in enumerate(levels): \n",
    "    temp_df = df.loc[df[level_col] == v, ]\n",
    "    ax1.scatter(x, y, c = colorlist[i], label = 'different label name')\n",
    "```"
   ]
  },
  {
   "cell_type": "markdown",
   "metadata": {},
   "source": [
    "### Plot with classification background like decision tree\n",
    "\n",
    "- make up the background x data\n",
    "\n",
    "`x0, x1 = np.meshgrid(np.arange(x0_min, x0_max, plot_step), np.arange(x1_min, x1_max, plot_step))`\n",
    "\n",
    "- make prediction and plot background\n",
    "\n",
    "```\n",
    "Z = tree_clf.predict(np.c_[x0.ravel(), x1.ravel()])\n",
    "Z = Z.reshape(x1.shape)\n",
    "cs = plt.contourf(x0, x1, Z, cmap = plt.cm.Paired)\n",
    "```\n",
    "\n",
    "- add the training data\n",
    "\n",
    "```\n",
    "n_classes = 2 # how many class\n",
    "plot_colors = 'bry' \n",
    "for i, color in zip(range(n_classes), plot_colors):\n",
    "    idx = np.where(y == i)\n",
    "    plt.scatter(X[idx, 0], X[idx, 1], c = color, cmap = plt.cm.Paired)\n",
    "```"
   ]
  },
  {
   "cell_type": "markdown",
   "metadata": {},
   "source": [
    "# Plot Vertical/ Horizontal Lines\n",
    "\n",
    "## Add spec line in other Plot\n",
    "\n",
    "- horizontal line\n",
    "\n",
    "```\n",
    "ax.axhline(y = spec, color = 'g', linestyle = '--')\n",
    "```"
   ]
  }
 ]
}