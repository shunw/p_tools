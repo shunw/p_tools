{
 "nbformat": 4,
 "nbformat_minor": 2,
 "metadata": {
  "language_info": {
   "name": "python",
   "codemirror_mode": {
    "name": "ipython",
    "version": 3
   }
  },
  "orig_nbformat": 2,
  "file_extension": ".py",
  "mimetype": "text/x-python",
  "name": "python",
  "npconvert_exporter": "python",
  "pygments_lexer": "ipython3",
  "version": 3
 },
 "cells": [
  {
   "cell_type": "markdown",
   "execution_count": null,
   "metadata": {},
   "outputs": [],
   "source": [
    "## Deal w/ Chinese Character"
   ]
  },
  {
   "cell_type": "markdown",
   "execution_count": null,
   "metadata": {},
   "outputs": [],
   "source": [
    "### Insert Chinese Character into Tables\n",
    "\n",
    "- example: nCov_data/ github, [example link](https://github.com/stoneflyop1/SimpleUsers/blob/master/sql/scripts/dump.sql)\n",
    "\n",
    "- create table as following: \n",
    "```py\n",
    "CREATE TABLE IF NOT EXISTS tbl_name ( ... )CHARACTER SET = utf8;\n",
    "```\n",
    "\n",
    "- open the database db as following: \n",
    "```\n",
    "db1 = mysql.connect(host = xxx, user = xxx, passwd = xxx, db = 'xxx_data', use_unicode=True, charset=\"utf8\")\n",
    "```"
   ]
  },
  {
   "cell_type": "markdown",
   "metadata": {},
   "source": [
    "## Run Script in Terminal"
   ]
  },
  {
   "cell_type": "markdown",
   "execution_count": null,
   "metadata": {},
   "outputs": [],
   "source": [
    "### Run the sql script from command directly\n",
    "\n",
    "```mysql -u username -p data_base_name < test.sql```\n",
    "\n",
    "### Run the sql in the mysql command line\n",
    "\n",
    "`mysql> source \\home\\user\\Desktop\\test.sql;`"
   ]
  },
  {
   "cell_type": "markdown",
   "metadata": {},
   "source": [
    "## Deal w/ Time Series"
   ]
  },
  {
   "cell_type": "markdown",
   "metadata": {},
   "source": [
    "### Compare date time\n",
    "\n",
    "- Choose data in one date\n",
    "\n",
    "`where updateTime between date('2020-02-10') and date('2020-02-12')`"
   ]
  },
  {
   "cell_type": "markdown",
   "metadata": {},
   "source": [
    "## w/ Pandas\n",
    "\n",
    "### import data to Pandas\n",
    "\n",
    "`df = pd.read_sql(select_sql_sentence, con = db1)`"
   ]
  },
  {
   "cell_type": "markdown",
   "metadata": {},
   "source": [
    "### Deal w/ Data\n",
    "\n",
    "#### Update Query\n",
    "\n",
    "```\n",
    "update prov_lkup, (\n",
    "    select distinct prov_lkup.fd1, prov_data.fd2\n",
    "    from prov_lkup, prov_data\n",
    "    \n",
    "    where prov_lkup.id = prov_data.id\n",
    "    )as source\n",
    "set prov_lkup.fd2 = source.fd2\n",
    "where prov_lkup.id = source.id;\n",
    "\n",
    "```"
   ]
  }
 ]
}