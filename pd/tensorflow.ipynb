{
 "nbformat": 4,
 "nbformat_minor": 2,
 "metadata": {
  "language_info": {
   "name": "python",
   "codemirror_mode": {
    "name": "ipython",
    "version": 3
   }
  },
  "orig_nbformat": 2,
  "file_extension": ".py",
  "mimetype": "text/x-python",
  "name": "python",
  "npconvert_exporter": "python",
  "pygments_lexer": "ipython3",
  "version": 3
 },
 "cells": [
  {
   "cell_type": "markdown",
   "metadata": {},
   "source": [
    "# Basic"
   ]
  },
  {
   "cell_type": "markdown",
   "metadata": {},
   "source": [
    "## Get Random Data\n",
    "\n",
    "`tf.random.uniform(shape = (), dtype = tf.int32) # tf.float32`\n",
    "\n",
    "## Get zeros\n",
    "\n",
    "`tf.zeros(shape = (2))`\n",
    "\n",
    "## Define Matrix\n",
    "\n",
    "`tf.constant([[1, 2], [3, 4]])`"
   ]
  },
  {
   "cell_type": "markdown",
   "metadata": {},
   "source": [
    "## Basic info\n",
    "\n",
    "`A.shape; A.dtype; A.numpy()`"
   ]
  },
  {
   "cell_type": "markdown",
   "metadata": {},
   "source": [
    "## Basic Calculation\n",
    "\n",
    "`tf.add(A, B); tf.matmul(A, B)`"
   ]
  },
  {
   "cell_type": "markdown",
   "metadata": {},
   "source": [
    "## Derivate"
   ]
  },
  {
   "cell_type": "code",
   "execution_count": null,
   "metadata": {},
   "outputs": [],
   "source": [
    "import tensorflow as tf\n",
    "\n",
    "x = tf.Variable(initial_value = 3.)\n",
    "with tf.GradientTape() as tape: \n",
    "    y = tf.square(x)\n",
    "y_grad = tape.gradient(y, x) # 计算y关于x的导数\n",
    "print ([y, y_grad])"
   ]
  }
 ]
}