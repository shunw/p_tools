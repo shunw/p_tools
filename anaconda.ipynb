{
 "nbformat": 4,
 "nbformat_minor": 2,
 "metadata": {
  "language_info": {
   "name": "python",
   "codemirror_mode": {
    "name": "ipython",
    "version": 3
   }
  },
  "orig_nbformat": 2,
  "file_extension": ".py",
  "mimetype": "text/x-python",
  "name": "python",
  "npconvert_exporter": "python",
  "pygments_lexer": "ipython3",
  "version": 3
 },
 "cells": [
  {
   "cell_type": "markdown",
   "metadata": {},
   "source": [
    "# 虚拟环境\n",
    "\n",
    "```\n",
    "conda create --name [env-name]      # 建立名为[env-name]的Conda虚拟环境\n",
    "conda activate [env-name]           # 进入名为[env-name]的Conda虚拟环境\n",
    "conda deactivate                    # 退出当前的Conda虚拟环境\n",
    "conda env remove --name [env-name]  # 删除名为[env-name]的Conda虚拟环境\n",
    "conda env list                      # 列出所有Conda虚拟环境\n",
    "```"
   ]
  }
 ]
}