{
 "nbformat": 4,
 "nbformat_minor": 2,
 "metadata": {
  "language_info": {
   "name": "python",
   "codemirror_mode": {
    "name": "ipython",
    "version": 3
   },
   "version": "3.6.5-final"
  },
  "orig_nbformat": 2,
  "file_extension": ".py",
  "mimetype": "text/x-python",
  "name": "python",
  "npconvert_exporter": "python",
  "pygments_lexer": "ipython3",
  "version": 3,
  "kernelspec": {
   "name": "python36564bitff28b0bc308b43728a982148efad7fb6",
   "display_name": "Python 3.6.5 64-bit"
  }
 },
 "cells": [
  {
   "cell_type": "markdown",
   "metadata": {},
   "source": [
    "# Number of Combinations"
   ]
  },
  {
   "cell_type": "markdown",
   "metadata": {},
   "source": [
    "Method 1"
   ]
  },
  {
   "cell_type": "code",
   "execution_count": 28,
   "metadata": {},
   "outputs": [
    {
     "output_type": "stream",
     "name": "stdout",
     "text": "0.025203854953300835\n"
    },
    {
     "output_type": "execute_result",
     "data": {
      "text/plain": "0.025203854953318863"
     },
     "metadata": {},
     "execution_count": 28
    }
   ],
   "source": [
    "import operator as op\n",
    "from decimal import Decimal\n",
    "from functools import reduce\n",
    "\n",
    "def ncr(n, r): \n",
    "    r = min(r, n-r)\n",
    "    number = reduce(op.mul, range(n, n-r, -1), 1)\n",
    "    denom = reduce(op.mul, range(1, r+1), 1)\n",
    "    return Decimal(number)/ Decimal(denom)\n",
    "    \n",
    "p = .51\n",
    "n_total = 1001\n",
    "n_head = 510\n",
    "print (float(ncr(n_total, n_head)) * (p ** n_head) * ((1 - p) ** (n_total - n_head)))\n",
    "\n",
    "from scipy import stats\n",
    "stats.binom.pmf(k = n_head, n = 1001, p = p)"
   ]
  },
  {
   "cell_type": "markdown",
   "metadata": {},
   "source": [
    "Method 2: \n",
    "\n",
    "Note: need python version 3.8\n",
    "\n",
    "```\n",
    "from math import comb\n",
    "\n",
    "comb(10, 3)\n",
    "```"
   ]
  }
 ]
}