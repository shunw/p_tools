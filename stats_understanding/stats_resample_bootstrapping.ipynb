{
 "nbformat": 4,
 "nbformat_minor": 2,
 "metadata": {
  "language_info": {
   "name": "python",
   "codemirror_mode": {
    "name": "ipython",
    "version": 3
   },
   "version": "3.6.5-final"
  },
  "orig_nbformat": 2,
  "file_extension": ".py",
  "mimetype": "text/x-python",
  "name": "python",
  "npconvert_exporter": "python",
  "pygments_lexer": "ipython3",
  "version": 3,
  "kernelspec": {
   "name": "python36564bitff28b0bc308b43728a982148efad7fb6",
   "display_name": "Python 3.6.5 64-bit"
  }
 },
 "cells": [
  {
   "cell_type": "markdown",
   "metadata": {},
   "source": [
    "[reference link for bootstrapping](https://www.youtube.com/watch?v=Om5TMGj9td4&list=PLqzoL9-eJTNDp_bWyWBdw2ioA43B3dBrl&index=5)"
   ]
  },
  {
   "cell_type": "code",
   "execution_count": 2,
   "metadata": {},
   "outputs": [],
   "source": [
    "# Data Prepare and Bootstrapping func\n",
    "\n",
    "import pandas as pd\n",
    "\n",
    "data = pd.read_csv('ChickData.csv')\n",
    "\n",
    "mm = data.loc[data['feed'] == 'meatmeal', 'weight']\n",
    "cs = data.loc[data['feed'] == 'casein', 'weight']\n",
    "# print (mm.shape, cs.shape)\n",
    "mm_mean = mm.mean()\n",
    "cs_mean = cs.mean()\n",
    "\n",
    "# print (mm_mean, cs_mean)\n",
    "\n",
    "mm_median = mm.median()\n",
    "cs_median = cs.median()\n",
    "# print (mm_median - cs_median)\n",
    "\n",
    "import numpy as np\n",
    "\n",
    "class Bootstrapping(): \n",
    "    def __init__(self, sample, b = 10000): \n",
    "        self.b = b\n",
    "        self.sample = sample\n",
    "\n",
    "    def simulate(self): \n",
    "        self.b_resample = None\n",
    "\n",
    "        for _ in range(self.b): \n",
    "            temp = np.random.choice(self.sample, len(self.sample), replace = True) \n",
    "            \n",
    "            if self.b_resample is None: \n",
    "                self.b_resample = temp\n",
    "            else: \n",
    "                self.b_resample = np.vstack((self.b_resample, temp))\n",
    "            \n",
    "        return self.b_resample\n",
    "    \n",
    "    def b_means(self): \n",
    "        return np.mean(self.b_resample, axis = 1)\n",
    "\n",
    "    def b_median(self): \n",
    "        return np.median(self.b_resample, axis = 1)\n",
    "\n",
    "mm_bs = Bootstrapping(mm)\n",
    "mm_bs.simulate()\n",
    "mm_b_means = mm_bs.b_means()\n",
    "\n",
    "cs_bs = Bootstrapping(cs)\n",
    "cs_bs.simulate()\n",
    "cs_b_means = cs_bs.b_means()"
   ]
  },
  {
   "cell_type": "markdown",
   "metadata": {},
   "source": [
    "# Bootstrapping"
   ]
  },
  {
   "cell_type": "markdown",
   "metadata": {},
   "source": [
    "## Bootstrapping/ Hypothesis P value Definition\n",
    "\n",
    "Under set of assumptions, what is the probability of getting the observed test statistic or one more extreme, if the null hypothesis is True\n",
    "\n",
    "For instance, sample 1 and sample 2 mean difference: test_statistic = 46.67. \n",
    "If the null hypothesis were true, and test_statistic = 0\n",
    "\n",
    "P-value = the number of bootstrap test statistics that are greater than the observed test statistic / B(the total number of bootstrap test statistics)\n",
    "\n",
    "if the P-value = .0832 => 8.32% \n",
    "\n",
    "Out of the 10,000(B times) bootstrap test statistics calculated, 832 of them had test statistics greater than the observed one. \n",
    "\n",
    "If there is no difference in the mean weights, we would see a test statistic of 46.67 (two sample difference) or more by chance roughly 8.32% of the time. (But actually, when I run it, the percentage is around 50%)"
   ]
  },
  {
   "cell_type": "code",
   "execution_count": 3,
   "metadata": {},
   "outputs": [
    {
     "output_type": "stream",
     "name": "stdout",
     "text": "If there is no difference in the mean weights, we would see a test statistic of 46.67 or more by chance roughly 49.72% of the time.\n"
    }
   ],
   "source": [
    "def compare_two_mean_bs(sample_1, sample_2, h1_stats): \n",
    "    '''\n",
    "    sample_1 and sample_2 are after boot strapping\n",
    "    h1_stats is one value. \n",
    "    h0 is sample_1 == sample_2\n",
    "    h1 is sample_1 - sample_2 > h1_stats\n",
    "    '''\n",
    "    diff = sample_1 - sample_2\n",
    "    h1_stats_np = np.array([h1_stats] * len(diff))\n",
    "    higher_h1 = diff >= h1_stats_np\n",
    "    return np.mean(higher_h1)\n",
    "    \n",
    "\n",
    "p_value = compare_two_mean_bs(cs_b_means, mm_b_means, cs_mean - mm_mean)\n",
    "print ('If there is no difference in the mean weights, we would see a test statistic of {:.2f} or more by chance roughly {:.2f}% of the time.'.format(cs_mean - mm_mean, p_value * 100))\n",
    ""
   ]
  },
  {
   "cell_type": "markdown",
   "metadata": {},
   "source": [
    "## Bootstrapping Confidence Interval\n",
    "\n",
    "Approaches to Building a Bootstrap Confidence Interval: \n",
    "\n",
    "- Percentile Method\n",
    "\n",
    "    - we have 95% confidence that the true population difference ( <- the sample is to compare two samples' means) in means is somewhere between quantile(sample, .025) and quantile(sample, .975)\n",
    "\n",
    "- Basic Method\n",
    "\n",
    "- Normal Method\n",
    "\n",
    "- Bias-Corrected Method"
   ]
  },
  {
   "cell_type": "markdown",
   "metadata": {},
   "source": [
    "### Percentile Method\n",
    "\n",
    "For 95% confidence, it uses the 2.5th and 97.5th percentile of the bootstrap distribution of estimates as the lower and upper bounds of the interval. \n",
    "\n",
    "So, it uses the middle 95% of bootstrap estimates (removing the bottom/ top 2.5%) to form the 95% confidence interval. \n",
    "\n",
    "If the range 2.5% - 97.5% contains 0, we would say the difference is not statistically significant. "
   ]
  },
  {
   "cell_type": "code",
   "execution_count": 4,
   "metadata": {},
   "outputs": [
    {
     "output_type": "stream",
     "name": "stdout",
     "text": "mean difference 2.5% quantile is: -3.40\nmean difference 97.5% quantile is: 95.99\n\nWe are 95% confident that the true population difference in means is somewhere between -3.40g and 95.99g\n"
    }
   ],
   "source": [
    "b_means_diff = cs_b_means - mm_b_means\n",
    "print ('mean difference 2.5% quantile is: {:.2f}\\nmean difference 97.5% quantile is: {:.2f}'.format(np.quantile(b_means_diff, .025), np.quantile(b_means_diff, .975)))\n",
    "\n",
    "print ()\n",
    "\n",
    "print ('We are 95% confident that the true population difference in means is somewhere between {:.2f}g and {:.2f}g'.format(np.quantile(b_means_diff, .025), np.quantile(b_means_diff, .975)))\n",
    ""
   ]
  },
  {
   "cell_type": "markdown",
   "metadata": {},
   "source": [
    "？视频里说的是：不是明显，因为diff从负到正\n",
    "但是hyp看到的是 stats 明显, 如果用t test的话？好奇"
   ]
  },
  {
   "cell_type": "code",
   "execution_count": 16,
   "metadata": {},
   "outputs": [
    {
     "output_type": "stream",
     "name": "stdout",
     "text": "diff mean is: 46.45\ndiff std is: 0.25\ndiff 95% is: 45.94, 46.96\n"
    }
   ],
   "source": [
    "from scipy.stats import ttest_ind, ttest_ind_from_stats\n",
    "# from scipy import stats\n",
    "\n",
    "tt_t, tt_p = ttest_ind(cs_b_means, mm_b_means, equal_var = False)\n",
    "# print (tt_t, tt_p)\n",
    "\n",
    "\n",
    "b_means_diff = cs_b_means - mm_b_means\n",
    "mean = np.mean(b_means_diff)\n",
    "std = np.std(b_means_diff)/ (len(b_means_diff) ** .5)\n",
    "print ('diff mean is: {:.2f}'.format(mean))\n",
    "print ('diff std is: {:.2f}'.format(std))\n",
    "print ('diff 95% is: {:.2f}, {:.2f}'.format(mean - 2* std, mean + 2*std))\n",
    "# print (std)\n",
    "# print (np.var(b_means_diff) ** .5)"
   ]
  },
  {
   "cell_type": "markdown",
   "metadata": {},
   "source": [
    "# Permutation Tests"
   ]
  },
  {
   "cell_type": "markdown",
   "metadata": {},
   "source": [
    "Concept is: [reference](https://www.youtube.com/watch?v=rJ3AZCQuiLw&list=PLqzoL9-eJTNDp_bWyWBdw2ioA43B3dBrl&index=6)\n",
    "\n",
    "- resample all the samples without replace; \n",
    "\n",
    "- if you want to compare two samples, the resample will go among all the samples. \n",
    "\n",
    "- it could not have the confidence interval, but could have the P value, #perm_ts > obs_ts / total number of the Perm (same as the bootstrap p value definition. )"
   ]
  },
  {
   "cell_type": "markdown",
   "metadata": {},
   "source": [
    "Why Use Permutation Approach\n",
    "\n",
    "- Small Sample Size\n",
    "\n",
    "- Assumptions (for parametric approach) not met\n",
    "\n",
    "- Test something other than classic approaches comparing Means and Medians, like: if one sample is 10% higher than the other. \n",
    "\n",
    "- Difficult to estimate the Standard Error for test statistics"
   ]
  },
  {
   "cell_type": "markdown",
   "metadata": {},
   "source": [
    "- H0: weight gain same under both feed type\n",
    "\n",
    "- Test stats: 1. mean difference; 2. median difference; \n"
   ]
  }
 ]
}