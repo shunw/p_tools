{
 "nbformat": 4,
 "nbformat_minor": 2,
 "metadata": {
  "language_info": {
   "name": "python",
   "codemirror_mode": {
    "name": "ipython",
    "version": 3
   },
   "version": "3.6.5-final"
  },
  "orig_nbformat": 2,
  "file_extension": ".py",
  "mimetype": "text/x-python",
  "name": "python",
  "npconvert_exporter": "python",
  "pygments_lexer": "ipython3",
  "version": 3,
  "kernelspec": {
   "name": "python36564bitff28b0bc308b43728a982148efad7fb6",
   "display_name": "Python 3.6.5 64-bit"
  }
 },
 "cells": [
  {
   "cell_type": "markdown",
   "metadata": {},
   "source": [
    "# T Distribution"
   ]
  },
  {
   "cell_type": "markdown",
   "metadata": {},
   "source": [
    "## Assumption (sensitive to outliers)\n",
    "\n",
    "- simple random sample\n",
    "\n",
    "- independent observations\n",
    "\n",
    "- large sample size (n >= 20 <- more symmetric smaller sample size; more skewed larger sample size) OR invidivals ~ normal distribution"
   ]
  },
  {
   "cell_type": "code",
   "execution_count": 28,
   "metadata": {},
   "outputs": [
    {
     "output_type": "stream",
     "name": "stdout",
     "text": "TWO SIDE: have 95.0% confidence that the population MEAN is between 22.54 and 27.86, and the t-value is 2.13\n\nONE SIDE: have 95.0% confidence that the population MEAN is 27.39 or less, and the t-value is 1.75\n"
    }
   ],
   "source": [
    "from scipy import stats\n",
    "\n",
    "# construct 95% confidence interval (2 sided)\n",
    "n = 16\n",
    "mean = 25.2\n",
    "s = 5\n",
    "ci = .95\n",
    "\n",
    "# =================== TWO SIDED ===================\n",
    "# one method\n",
    "stats.t.interval(ci, df = n - 1, loc = 25.2, scale = s/ (n ** .5))\n",
    "\n",
    "# second method\n",
    "t_stat = stats.t.ppf(1 - (1-ci)/2, df = n - 1)\n",
    "\n",
    "lower, upper = mean - t_stat * s/ (n ** .5), mean + t_stat * s/ (n ** .5)\n",
    "print ('TWO SIDE: have {}% confidence that the population MEAN is between {:.2f} and {:.2f}, and the t-value is {:.2f}'.format(ci*100, lower, upper, t_stat))\n",
    "print ()\n",
    "# =================== ONE SIDED ===================\n",
    "# second method\n",
    "t_stat_1 = stats.t.ppf(ci, df = n - 1)\n",
    "\n",
    "upper = mean + t_stat_1 * s/ (n ** .5)\n",
    "print ('ONE SIDE: have {}% confidence that the population MEAN is {:.2f} or less, and the t-value is {:.2f}'.format(ci*100, upper, t_stat_1))"
   ]
  },
  {
   "cell_type": "markdown",
   "metadata": {},
   "source": [
    "## Understanding of the Confidence Interval\n",
    "\n",
    "- If we took sample of size 16 from the population in Vancouver over and over again and build Confidence Intervals over and over again, we expect for every 100 Confidence Intervals about 95 of those to have the true mean fall within the intervals\n",
    "\n",
    "- REMEBER: the confidence interval is random, but the population mean is not random!"
   ]
  },
  {
   "cell_type": "markdown",
   "metadata": {},
   "source": [
    "## Margin of Error \n",
    "\n",
    "t_value * sample_standard_deviation / (n ** .5)\n",
    "\n",
    "### How to decrease Margin of Error \n",
    "\n",
    "- decrease t_value -> decrease confidence\n",
    "\n",
    "- decrease standard deviation <- not possible (if you measure people height, etc)\n",
    "\n",
    "- increase n \n",
    "\n",
    "\n",
    "### Margin of Error and Sample Size\n",
    "\n",
    "- suppose want ME = .5 => what sample size?\n",
    "\n",
    "- ![sample_size_cal](sample_size_cal.png)\n",
    "\n",
    "    - use the t_value here a approximate value; or use a normal distribution z_value\n",
    "\n",
    "- comment: \n",
    "\n",
    "    - plan ahead of time\n",
    "\n",
    "        - no standard deviation \n",
    "\n",
    "            - look at literature, leverage the similar data\n",
    "\n",
    "            - conduct small pilot study\n",
    "\n",
    "            - use expert knowledge for a range and properties of normal distribution\n",
    "\n",
    "                - range usually 6 std deviation because +/- 3 std include 99.7% of data. \n",
    "    \n",
    "    - balance between these two "
   ]
  },
  {
   "cell_type": "code",
   "execution_count": 31,
   "metadata": {},
   "outputs": [
    {
     "output_type": "execute_result",
     "data": {
      "text/plain": "1.959963984540054"
     },
     "metadata": {},
     "execution_count": 31
    }
   ],
   "source": [
    "from scipy import stats\n",
    "\n",
    "# construct 95% confidence interval (2 sided)\n",
    "mean = 25.2\n",
    "s = 5\n",
    "ci = .95\n",
    "\n",
    "me = .5\n",
    "\n",
    "(2 * s / .5) ** 2\n",
    "stats.norm.ppf(.975)"
   ]
  }
 ]
}