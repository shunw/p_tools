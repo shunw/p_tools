{
 "nbformat": 4,
 "nbformat_minor": 2,
 "metadata": {
  "language_info": {
   "name": "python",
   "codemirror_mode": {
    "name": "ipython",
    "version": 3
   }
  },
  "orig_nbformat": 2,
  "file_extension": ".py",
  "mimetype": "text/x-python",
  "name": "python",
  "npconvert_exporter": "python",
  "pygments_lexer": "ipython3",
  "version": 3
 },
 "cells": [
  {
   "cell_type": "markdown",
   "metadata": {},
   "source": [
    "# One Way Analysis of ANOVA"
   ]
  },
  {
   "cell_type": "markdown",
   "metadata": {},
   "source": [
    "## Concept: \n",
    "\n",
    "- total sum of squares: \n",
    "    \n",
    "    - SStotal = sum((indivival - overall mean) ** 2)\n",
    "\n",
    "        - Stotal**2 = SStotal / (n - 1) \n",
    "\n",
    "        - n is the degree of freedom\n",
    "\n",
    "    - SStotal = SSexpl + SSunexpl\n",
    "\n",
    "    - SSbtwn == SSexpl = sum((group mean - overall mean) ** 2)\n",
    "\n",
    "        - Sb**2 = MSb = SSbtwn / (k - 1)\n",
    "\n",
    "        - k is the group qty\n",
    "\n",
    "        - explained, singal\n",
    "    \n",
    "    - SSwithin == SSunexpl = sum((indivival - group mean) ** 2)\n",
    "\n",
    "        - Sw**2 = MSw = SSwithin / (n-k)\n",
    "\n",
    "        - n is the total observation\n",
    "\n",
    "        - unexplained, noise\n",
    "\n",
    "- think about several questions, and try to answer it: \n",
    "\n",
    "    - why not everyone have same weight lost? <- this is example shown in the video. \n",
    "        \n",
    "        - diets may different -> explained by diet \"X\" <- BETWEEN\n",
    "\n",
    "        - people may different -> unexplained by diet \"X\" <- WITHIN\n",
    "\n",
    "    - in the actual life, this could be: \n",
    "\n",
    "        - why different engine have different shift? <- unexplained by ...\n",
    "\n"
   ]
  },
  {
   "cell_type": "markdown",
   "metadata": {},
   "source": [
    "H0: All means are same (for each group)\n",
    "\n",
    "H1: At least one diff. \n",
    "\n",
    "Assumption: \n",
    "\n",
    "- simple random sample\n",
    "\n",
    "- independent observations\n",
    "\n",
    "- independent groups\n",
    "\n",
    "- SD(standard deviation of each group) are same\n",
    "\n",
    "- each group has large sample size. (> 20). OR  groups are proximately normal"
   ]
  },
  {
   "cell_type": "markdown",
   "metadata": {},
   "source": [
    "If the assumption does not meet, like if we have small n, non-normality or need to compare median instead of median\n",
    "\n",
    "- non-param -> KRUSKAL WALLIS\n",
    "\n",
    "- bootstrap/ re-sample approach"
   ]
  }
 ]
}