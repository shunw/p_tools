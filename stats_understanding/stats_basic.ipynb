{
 "cells": [
  {
   "cell_type": "markdown",
   "metadata": {},
   "source": [
    "# Basic"
   ]
  },
  {
   "cell_type": "markdown",
   "metadata": {},
   "source": [
    "## Why Std divide by n-1 not n\n",
    "\n",
    "[due to the Bessel correction](https://en.wikipedia.org/wiki/Bessel%27s_correction)"
   ]
  },
  {
   "cell_type": "markdown",
   "metadata": {},
   "source": [
    "# Youtube Stats Video\n",
    "\n",
    "[lesson](https://www.youtube.com/watch?v=d96hI8vQRvs&list=PLqzoL9-eJTNDVNYtKrBKuFnshUoBGY593&index=4)\n",
    "\n",
    "[material](https://statslectures.com/r-scripts-datasets)"
   ]
  },
  {
   "cell_type": "markdown",
   "metadata": {},
   "source": [
    "# Scipy Function\n",
    "\n",
    "PDF → probability density function/ Probability looks at probability at one point.\n",
    "\n",
    "CDF → Cumulative density function/ Cumulative is the total probability of anything below it."
   ]
  },
  {
   "cell_type": "code",
   "execution_count": null,
   "metadata": {},
   "outputs": [],
   "source": []
  },
  {
   "cell_type": "markdown",
   "metadata": {},
   "source": [
    "# Hypothesis "
   ]
  },
  {
   "cell_type": "markdown",
   "metadata": {},
   "source": [
    "data prepare"
   ]
  },
  {
   "cell_type": "code",
   "execution_count": 2,
   "metadata": {},
   "outputs": [],
   "source": [
    "import pandas as pd\n",
    "df = pd.read_csv('DietWeigthLoss.csv')\n",
    "df['WeightLoss'] = df['WeightLoss\\tDiet'].apply(lambda x: float(x.split()[0]))\n",
    "df['Diet']= df['WeightLoss\\tDiet'].apply(lambda x: x.split()[1])\n",
    "df=df[['WeightLoss', 'Diet']]\n",
    "\n",
    "wtl = 'WeightLoss'\n",
    "data_a = df.loc[df['Diet'] == 'A', wtl]\n",
    "data_b = df.loc[df['Diet'] == 'B', wtl]\n",
    "data_c = df.loc[df['Diet'] == 'C', wtl]\n",
    "data_d = df.loc[df['Diet'] == 'D', wtl]\n",
    ""
   ]
  },
  {
   "cell_type": "markdown",
   "metadata": {},
   "source": [
    "## one-way ANOVA\n",
    "\n",
    "`scipy.stats_f_oneway`"
   ]
  },
  {
   "cell_type": "code",
   "execution_count": 3,
   "metadata": {},
   "outputs": [
    {
     "output_type": "stream",
     "name": "stdout",
     "text": "6.117525665200085 0.001127857509636891\n"
    }
   ],
   "source": [
    "from scipy import stats\n",
    "stat, pvalue = stats.f_oneway(data_a, data_b, data_c, data_d)\n",
    "print (stat, pvalue)"
   ]
  }
 ],
 "metadata": {
  "language_info": {
   "name": "python",
   "codemirror_mode": {
    "name": "ipython",
    "version": 3
   },
   "version": "3.6.5-final"
  },
  "orig_nbformat": 2,
  "file_extension": ".py",
  "mimetype": "text/x-python",
  "name": "python",
  "npconvert_exporter": "python",
  "pygments_lexer": "ipython3",
  "version": 3,
  "kernelspec": {
   "name": "python36564bitff28b0bc308b43728a982148efad7fb6",
   "display_name": "Python 3.6.5 64-bit"
  }
 },
 "nbformat": 4,
 "nbformat_minor": 2
}