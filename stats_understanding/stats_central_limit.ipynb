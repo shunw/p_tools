{
 "nbformat": 4,
 "nbformat_minor": 2,
 "metadata": {
  "language_info": {
   "name": "python",
   "codemirror_mode": {
    "name": "ipython",
    "version": 3
   }
  },
  "orig_nbformat": 2,
  "file_extension": ".py",
  "mimetype": "text/x-python",
  "name": "python",
  "npconvert_exporter": "python",
  "pygments_lexer": "ipython3",
  "version": 3
 },
 "cells": [
  {
   "cell_type": "markdown",
   "metadata": {},
   "source": [
    "# Samples\n",
    "\n",
    "- In stats analysis we use a sample to make statements about the population\n",
    "\n",
    "- The sample does not look exactly like the population\n",
    "\n",
    "- Need to learn about how samples behave in order to make statements about the population. -> stats inference"
   ]
  }
 ]
}