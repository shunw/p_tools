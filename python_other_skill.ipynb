{
 "nbformat": 4,
 "nbformat_minor": 2,
 "metadata": {
  "language_info": {
   "name": "python",
   "codemirror_mode": {
    "name": "ipython",
    "version": 3
   }
  },
  "orig_nbformat": 2,
  "file_extension": ".py",
  "mimetype": "text/x-python",
  "name": "python",
  "npconvert_exporter": "python",
  "pygments_lexer": "ipython3",
  "version": 3
 },
 "cells": [
  {
   "cell_type": "markdown",
   "metadata": {},
   "source": [
    "# Warning Message\n",
    "\n",
    "## Suppress Warning Message\n",
    "\n",
    "```\n",
    "import warnings\n",
    "warnings.filterwarnings(\"ignore\")\n",
    "```"
   ]
  },
  {
   "cell_type": "markdown",
   "metadata": {},
   "source": [
    "# Combination\n",
    "\n",
    "## All Combination w/ all Lists\n",
    "\n",
    "```\n",
    "import itertools\n",
    "\n",
    "test_data_ls = [c for c in itertools.product(list1, list2, list3)]\n",
    "```"
   ]
  }
 ]
}